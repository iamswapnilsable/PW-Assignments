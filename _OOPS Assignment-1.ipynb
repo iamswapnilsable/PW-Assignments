{
 "cells": [
  {
   "cell_type": "markdown",
   "id": "7791f843-0008-4600-9178-2c189aa18785",
   "metadata": {},
   "source": [
    "Q1. Explain Class and Object with respect to Object-Oriented Programming. Give a suitable example."
   ]
  },
  {
   "cell_type": "code",
   "execution_count": 2,
   "id": "20abd9a7-56d9-4881-a112-77e5a970bf9e",
   "metadata": {},
   "outputs": [
    {
     "data": {
      "text/plain": [
       "(885782542, 454, 'abc@gmail.com')"
      ]
     },
     "execution_count": 2,
     "metadata": {},
     "output_type": "execute_result"
    }
   ],
   "source": [
    "\"\"\"\n",
    "Class : A class means classification or charectecterization i.e It is a blue print of real world entity but not a complete \n",
    "or perfect real world entity. We define attributes that represent characteristics of the objects and functions that \n",
    "define the actions those objects can perform.\n",
    "\n",
    "Object : Is an entity which stores data and methods that define it's behaviour which is based on structure of class\n",
    "\n",
    "Ex:\n",
    "\n",
    "\"\"\"\n",
    "\n",
    "class pwskills:\n",
    "    def __init__(self, phone_number, email_id, student_id):\n",
    "        self.phone_number = phone_number\n",
    "        self.email_id = email_id\n",
    "        self.student_id = student_id\n",
    "        \n",
    "    def return_student_details(self):\n",
    "        return self.phone_number, self.student_id, self.email_id\n",
    "    \n",
    "rohan = pwskills(885782542, \"abc@gmail.com\", 454)\n",
    "\n",
    "rohan.return_student_details()\n",
    "\n",
    "\"\"\"\n",
    "In above example pwskills is class and rohan is object\n",
    "\n",
    "\"\"\"\n",
    "        \n",
    "\n",
    "\n"
   ]
  },
  {
   "cell_type": "markdown",
   "id": "fe59d7fb-ac3d-49b1-b7e5-04d9c26a9ab9",
   "metadata": {},
   "source": [
    "Q2. Name the four pillars of OOPs."
   ]
  },
  {
   "cell_type": "markdown",
   "id": "d115946a-9c7e-45c2-af34-95a2a3c62549",
   "metadata": {},
   "source": [
    "The four pillars of Object-Oriented Programming (OOP) are:\n",
    "   \n",
    "1. Polymorphism: One Entity having multiple behaviour at multiple situations Ex: Same function return addition If integer values given and same function return concatenation If String or List Data given\n",
    "2. Encapsulation: To hide instances within a class from user Encapsulation is used using double underscore EX: Self.__year = year\n",
    "3. Inheritance: Without creating multiple functions If we want to use functions which is in another class then we can call one call to another class using Inheritance\n",
    "4. Abstraction: By using @abc.abstractmethod decorator we make Skeleton or Blue print of Abstract classes. Then because of this we can call any method available in class we can give defination to it."
   ]
  },
  {
   "cell_type": "markdown",
   "id": "b13e0744-72cb-4352-b90e-51642e99088a",
   "metadata": {},
   "source": [
    "Q3. Explain why the __init__() function is used. Give a suitable example."
   ]
  },
  {
   "cell_type": "code",
   "execution_count": 3,
   "id": "ee2fae8e-3c91-4f9b-8cf6-8242a6978572",
   "metadata": {},
   "outputs": [
    {
     "data": {
      "text/plain": [
       "('Toyota', 'XUV500', '200Kmph')"
      ]
     },
     "execution_count": 3,
     "metadata": {},
     "output_type": "execute_result"
    }
   ],
   "source": [
    "'''\n",
    "__init__ is used for Initialization. It allows data from object and passed to parameters\n",
    "\n",
    "EX: \n",
    "\n",
    "'''\n",
    "\n",
    "class Car:\n",
    "    def __init__(self, car_name, model, speed):\n",
    "        self.car_name = car_name\n",
    "        self.model = model\n",
    "        self.speed = speed\n",
    "        \n",
    "    def return_car_details(self):\n",
    "        return self.car_name, self.model, self.speed\n",
    "    \n",
    "Car = Car(\"Toyota\", \"XUV500\", \"200Kmph\")\n",
    "\n",
    "Car.return_car_details()\n",
    "\n",
    "\n"
   ]
  },
  {
   "cell_type": "markdown",
   "id": "8830bb77-8263-4f3c-ba59-058f8a18055e",
   "metadata": {},
   "source": [
    "Q4. Why self is used in OOPs?"
   ]
  },
  {
   "cell_type": "markdown",
   "id": "193366d5-8d94-4d40-8174-2289296e425f",
   "metadata": {},
   "source": [
    "Encapsulation - The \"self\" keyword enables us to access the instance variables and methods within the object. We can use any word in place of self Ex: We can our name in place of self\n",
    "\n",
    "Object Identity: The \"self\" keyword distinguishes which specific instance is being referred to in a method call. \n",
    "\n",
    "Method Invocation: To Invoke method we use self keyword"
   ]
  },
  {
   "cell_type": "markdown",
   "id": "06e54ea0-23ca-412f-8a27-edf1fd58083d",
   "metadata": {},
   "source": [
    "Q5. What is inheritance? Give an example for each type of inheritance."
   ]
  },
  {
   "cell_type": "code",
   "execution_count": 11,
   "id": "fe5f2fc0-ca80-4fe1-a5c7-b0d73b7a2364",
   "metadata": {},
   "outputs": [
    {
     "name": "stdout",
     "output_type": "stream",
     "text": [
      "This is method from class1\n",
      "This is a method from class2\n"
     ]
    }
   ],
   "source": [
    "'''\n",
    "In OOPS Programming Inheritance means call one class to another class \n",
    "i.e Inherit  properties and behaviors from an existing class to reuse\n",
    "There are two types of Inheritance \n",
    "1. Single Inheritance \n",
    "2. Multiple Inheritance\n",
    "\n",
    "'''\n",
    "\n",
    "class class1:\n",
    "    def test_class1(self):\n",
    "        return \"This is method from class1\"\n",
    "class class2(class1):\n",
    "    def test_class2(self):\n",
    "        return \"This is a method from class2\"\n",
    "class class3(class2):\n",
    "    pass\n",
    "\n",
    "obj_class3 = class3()\n",
    "print(obj_class3.test_class1())\n",
    "print(obj_class3.test_class2())\n"
   ]
  },
  {
   "cell_type": "code",
   "execution_count": 10,
   "id": "c6890e54-7cc3-46ae-94aa-931029a95a21",
   "metadata": {},
   "outputs": [
    {
     "name": "stdout",
     "output_type": "stream",
     "text": [
      "This is method from class1\n",
      "This is a method from class2\n"
     ]
    }
   ],
   "source": [
    "class class1:\n",
    "    def test_class1(self):\n",
    "        return \"This is method from class1\"\n",
    "class class2:\n",
    "    def test_class2(self):\n",
    "        return \"This is a method from class2\"\n",
    "class class3(class1, class2):\n",
    "    pass\n",
    "\n",
    "obj_class3 = class3()\n",
    "print(obj_class3.test_class1())\n",
    "print(obj_class3.test_class2())"
   ]
  },
  {
   "cell_type": "code",
   "execution_count": null,
   "id": "9e823e34-1ed3-4689-b47d-33e88bd1d350",
   "metadata": {},
   "outputs": [],
   "source": []
  }
 ],
 "metadata": {
  "kernelspec": {
   "display_name": "Python 3 (ipykernel)",
   "language": "python",
   "name": "python3"
  },
  "language_info": {
   "codemirror_mode": {
    "name": "ipython",
    "version": 3
   },
   "file_extension": ".py",
   "mimetype": "text/x-python",
   "name": "python",
   "nbconvert_exporter": "python",
   "pygments_lexer": "ipython3",
   "version": "3.10.8"
  }
 },
 "nbformat": 4,
 "nbformat_minor": 5
}

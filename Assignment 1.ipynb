{
 "cells": [
  {
   "cell_type": "markdown",
   "id": "124583f8-9aee-4bb2-a979-6a8b52606a0d",
   "metadata": {},
   "source": [
    "Q1. Create one variable containing following type of data:\n",
    "(i) string\n",
    "(ii) list\n",
    "(iii) float\n",
    "(iv) tuple"
   ]
  },
  {
   "cell_type": "code",
   "execution_count": 5,
   "id": "b26e6055-1f62-4c96-a872-d6220968d3e3",
   "metadata": {},
   "outputs": [
    {
     "name": "stdout",
     "output_type": "stream",
     "text": [
      "<class 'str'>\n",
      "<class 'list'>\n",
      "<class 'float'>\n",
      "<class 'tuple'>\n"
     ]
    }
   ],
   "source": [
    "String = \"PWSkills\"\n",
    "print(type(String))\n",
    "\n",
    "List = [\"PWSkills\"]\n",
    "print(type(List))\n",
    "\n",
    "Float = 10.00\n",
    "print(type(Float))\n",
    "\n",
    "Tuple = (\"PWSkills\",)\n",
    "print(type(Tuple))"
   ]
  },
  {
   "cell_type": "markdown",
   "id": "cf262154-21da-4477-a9b8-fddf32064575",
   "metadata": {},
   "source": [
    "Q2. Given are some following variables containing data:\n",
    "(i) var1 = ‘ ‘\n",
    "(ii) var2 = ‘[ DS , ML , Python]’\n",
    "(iii) var3 = [ ‘DS’ , ’ML’ , ‘Python’ ]\n",
    "(iv) var4 = 1.\n",
    "\n",
    "What will be the data type of the above given variable."
   ]
  },
  {
   "cell_type": "code",
   "execution_count": 8,
   "id": "7c4586fd-e6c2-465a-99a3-f08edfdf2d26",
   "metadata": {},
   "outputs": [
    {
     "name": "stdout",
     "output_type": "stream",
     "text": [
      "The data type of var1 is:  <class 'str'>\n",
      "The data type of var2 is:  <class 'str'>\n",
      "The data type of var3 is:  <class 'list'>\n",
      "The data type of var4 is:  <class 'float'>\n"
     ]
    }
   ],
   "source": [
    "var1 = ' '\n",
    "var2 = '[ DS , ML , Python]'\n",
    "var3 = [ 'DS' , 'ML' , 'Python' ]\n",
    "var4 = 1.\n",
    "\n",
    "print(\"The data type of var1 is: \",type(var1))\n",
    "print(\"The data type of var2 is: \",type(var2))\n",
    "print(\"The data type of var3 is: \",type(var3))\n",
    "print(\"The data type of var4 is: \",type(var4))"
   ]
  },
  {
   "cell_type": "markdown",
   "id": "662672d8-658d-4a7a-965a-e725e3acf7c4",
   "metadata": {},
   "source": [
    "Q3. Explain the use of the following operators using an example:\n",
    "(i) /\n",
    "(ii) %\n",
    "(iii) //\n",
    "(iv) **"
   ]
  },
  {
   "cell_type": "code",
   "execution_count": 13,
   "id": "3d965541-c84f-4ed4-81e5-66b0b6fb0b18",
   "metadata": {},
   "outputs": [
    {
     "data": {
      "text/plain": [
       "2.0"
      ]
     },
     "execution_count": 13,
     "metadata": {},
     "output_type": "execute_result"
    }
   ],
   "source": [
    "# / is divide operator Ex:-\n",
    "4/2"
   ]
  },
  {
   "cell_type": "code",
   "execution_count": 14,
   "id": "43e00601-32f8-405b-8ee9-4018663d6dae",
   "metadata": {},
   "outputs": [
    {
     "data": {
      "text/plain": [
       "1"
      ]
     },
     "execution_count": 14,
     "metadata": {},
     "output_type": "execute_result"
    }
   ],
   "source": [
    "# % is modulo operator gives us remainder\n",
    "5%2"
   ]
  },
  {
   "cell_type": "code",
   "execution_count": 15,
   "id": "48a4c7d5-3782-40af-815c-3da4aaa8892b",
   "metadata": {},
   "outputs": [
    {
     "data": {
      "text/plain": [
       "2"
      ]
     },
     "execution_count": 15,
     "metadata": {},
     "output_type": "execute_result"
    }
   ],
   "source": [
    "#// gives us quotient\n",
    "5//2"
   ]
  },
  {
   "cell_type": "code",
   "execution_count": 17,
   "id": "d9cf5099-d1a0-4309-9293-84f6dcc16504",
   "metadata": {},
   "outputs": [
    {
     "data": {
      "text/plain": [
       "8"
      ]
     },
     "execution_count": 17,
     "metadata": {},
     "output_type": "execute_result"
    }
   ],
   "source": [
    "#** is power operator two stars mens power of __\n",
    "2**3"
   ]
  },
  {
   "cell_type": "markdown",
   "id": "f7f5104c-0f10-484d-90e3-3204909a640d",
   "metadata": {},
   "source": [
    "Q4. Create a list of length 10 of your choice containing multiple types of data. Using for loop print the\n",
    "element and its data type."
   ]
  },
  {
   "cell_type": "code",
   "execution_count": 19,
   "id": "fb5515f9-d2c2-4adb-8140-83ef6191c6c0",
   "metadata": {},
   "outputs": [
    {
     "name": "stdout",
     "output_type": "stream",
     "text": [
      "PwSkills Data type is :  <class 'str'>\n",
      "1 Data type is :  <class 'int'>\n",
      "1.0 Data type is :  <class 'float'>\n",
      "True Data type is :  <class 'bool'>\n",
      "(1+2j) Data type is :  <class 'complex'>\n",
      "[1, 'abc', 2] Data type is :  <class 'list'>\n",
      "(1,) Data type is :  <class 'tuple'>\n",
      "Swapnil Data type is :  <class 'str'>\n",
      "0.1 Data type is :  <class 'float'>\n",
      "False Data type is :  <class 'bool'>\n"
     ]
    }
   ],
   "source": [
    "List = [\"PwSkills\", 1 , 1.00, True, 1+2j, [1,\"abc\",2], (1,), \"Swapnil\", 0.10, False]\n",
    "\n",
    "for i in List:\n",
    "    print(i, \"Data type is : \", type(i))\n",
    "    "
   ]
  },
  {
   "cell_type": "markdown",
   "id": "820c81ed-77a7-4a5a-bc12-f89e2f7a65fe",
   "metadata": {},
   "source": [
    "Q5. Using a while loop, verify if the number A is purely divisible by number B and if so then how many\n",
    "times it can be divisible."
   ]
  },
  {
   "cell_type": "code",
   "execution_count": null,
   "id": "8f5aa6ab-fb8c-4a1f-8416-e4fc18b9370f",
   "metadata": {},
   "outputs": [],
   "source": [
    "A = int(input(\"Number A: \"))\n",
    "B = int(input(\"Number B: \"))\n",
    "\n",
    "while A % B == 0:\n",
    "    count = A / B\n",
    "    print(A,\"is divisible by\",B)\n",
    "    print(\"No.of times it can be divisible :\",count)\n",
    "    break\n",
    "else:\n",
    "    print(A,\"is not divisible by\",B)\n",
    "\n"
   ]
  },
  {
   "cell_type": "markdown",
   "id": "363a1e3e-9246-464d-a982-a28ee8a2e0ea",
   "metadata": {},
   "source": [
    "Create a list containing 25 int type data. Using for loop and if-else condition print if the element is\n",
    "divisible by 3 or not."
   ]
  },
  {
   "cell_type": "code",
   "execution_count": null,
   "id": "cd0dffd5-9806-44f7-86fd-67c2f5c6f1ef",
   "metadata": {},
   "outputs": [],
   "source": [
    " List = []\n",
    "for i in range(1,26):\n",
    "    List.append(i)\n",
    "    if i%3 == 0:\n",
    "        print(i,\"is divisible by 3\")\n",
    "    else:\n",
    "        print(i,\"is not divisible by 3\")\n",
    "print(List)\n",
    "\n"
   ]
  },
  {
   "cell_type": "markdown",
   "id": "6ffeb8d4-57c1-4ca9-b642-f8ba5791743c",
   "metadata": {},
   "source": [
    "What do you understand about mutable and immutable data types? Give examples for both showing\n",
    "this property."
   ]
  },
  {
   "cell_type": "code",
   "execution_count": null,
   "id": "03b85b44-a98c-48bc-a3b0-11046e971b97",
   "metadata": {},
   "outputs": [],
   "source": [
    "\"\"\" \n",
    "Mutable - In Mutable data type we can change values and assingn new value using indexing\n",
    "for EX: \"\"\"\n",
    "\n",
    "List = [\"PwSkills\", 1 , 1.00, True, 1+2j, [1,\"abc\",2], (1,), \"Swapnil\", 0.10, False]\n",
    "\n",
    "List[1] = 10\n",
    "\n",
    "print(List)\n",
    "\n",
    "\"\"\"\n",
    "Immutable : In Immutable data type we cannot change value and assign new value using indexing\n",
    "for EX:\n",
    "\n",
    "\"\"\"\n",
    "\n",
    "#str is immutable shows error\n",
    "print(List[0][1])\n",
    "List[0][1] = \"C\" \n",
    "\n",
    "#tuple is immutable shows error\n",
    "Tuple = (1,2,3)\n",
    "Tuple.append(4)\n",
    "print(Tuple)\n"
   ]
  }
 ],
 "metadata": {
  "kernelspec": {
   "display_name": "Python 3 (ipykernel)",
   "language": "python",
   "name": "python3"
  },
  "language_info": {
   "codemirror_mode": {
    "name": "ipython",
    "version": 3
   },
   "file_extension": ".py",
   "mimetype": "text/x-python",
   "name": "python",
   "nbconvert_exporter": "python",
   "pygments_lexer": "ipython3",
   "version": "3.10.8"
  }
 },
 "nbformat": 4,
 "nbformat_minor": 5
}

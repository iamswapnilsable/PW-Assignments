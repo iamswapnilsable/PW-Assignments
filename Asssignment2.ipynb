{
 "cells": [
  {
   "cell_type": "markdown",
   "id": "d90c7210-ef99-4b88-ad10-dfee6df8d2b8",
   "metadata": {},
   "source": [
    "Q1. How do you comment code in Python? What are the different types of comments?"
   ]
  },
  {
   "cell_type": "code",
   "execution_count": null,
   "id": "f7990d53-96a5-41d6-8dfa-1e5f15532d5c",
   "metadata": {},
   "outputs": [
    {
     "data": {
      "text/plain": [
       "'\\nIf we have more lines then\\nWe can use \\'\\'\\'\\nor \"\"\" ( if we want to add quotes in middle of comment ) & then close it using '"
      ]
     },
     "execution_count": 3,
     "metadata": {},
     "output_type": "execute_result"
    }
   ],
   "source": [
    "# We can comment in python using # \n",
    "\n",
    "\"\"\"\n",
    "If we have more lines then\n",
    "We can use '''\n",
    "or \\\"\"\" ( if we want to add quotes in middle of comment ) & then close it using \n",
    "\"\"\"\n"
   ]
  },
  {
   "cell_type": "markdown",
   "id": "c9fce3b2-4848-406a-b1ba-68d5d74f77c5",
   "metadata": {},
   "source": [
    "Q2. What are variables in Python? How do you declare and assign values to variables?"
   ]
  },
  {
   "cell_type": "code",
   "execution_count": 18,
   "id": "da3640e1-8009-476b-b8b4-527d5f4ce93c",
   "metadata": {},
   "outputs": [
    {
     "name": "stdout",
     "output_type": "stream",
     "text": [
      "10\n",
      "20\n"
     ]
    }
   ],
   "source": [
    "'''\n",
    "To store data( Integer, String, Boolean, Float,Complex Numbers, List, Tuple, Dictionary )  Variables are used.\n",
    "We can assign value to variable using assign function =\n",
    "Ex:\n",
    "'''\n",
    "a = 10\n",
    "\n",
    "#And declare function as follows\n",
    "\n",
    "b=a\n",
    "\n",
    "print(b)\n",
    "\n",
    "#We can use only letters & _ at the start to assign variable and do not use number at the start\n",
    "\n",
    "_a10 = 20\n",
    "\n",
    "#10a = 30\n",
    "\n",
    "#We cannot use if, else, for type commands to assign variable\n",
    "#Python is case sensitive so from 1st example we cannot get value of B = 10\n",
    "\n"
   ]
  },
  {
   "cell_type": "markdown",
   "id": "08d055df-14ce-401c-9099-2e095066de53",
   "metadata": {},
   "source": [
    "Q3. How do you convert one data type to another in Python?"
   ]
  },
  {
   "cell_type": "code",
   "execution_count": 44,
   "id": "1cc724a6-d1a7-4b1e-9944-f3499cc6c9a2",
   "metadata": {},
   "outputs": [
    {
     "name": "stdout",
     "output_type": "stream",
     "text": [
      "<class 'int'>\n",
      "<class 'float'>\n",
      "<class 'list'>\n",
      "<class 'bool'>\n",
      "<class 'complex'>\n",
      "<class 'tuple'>\n",
      "<class 'set'>\n",
      "<class 'dict'>\n"
     ]
    }
   ],
   "source": [
    "#To convert into Interger\n",
    "a = int(10.21564)\n",
    "print(type(a))\n",
    "\n",
    "#To convert into Float\n",
    "b = float(10)\n",
    "print(type(b))\n",
    "\n",
    "#To convert into List\n",
    "c = (13, \"list\", (1,12))\n",
    "c1 = list(c)\n",
    "print(type(c1))\n",
    "\n",
    "#To convert into Boolean\n",
    "d = bool(10)\n",
    "print(type(d))\n",
    "\n",
    "#To convert into complex\n",
    "d = complex(10)\n",
    "print(type(d))\n",
    "\n",
    "#To convert into Tuple\n",
    "d = (10,)\n",
    "print(type(d))\n",
    "\n",
    "#To convert into set\n",
    "e = (13, \"list\", (1,12))\n",
    "e1 = set(e)\n",
    "print(type(e1))\n",
    "\n",
    "#If we have key-value pair then \n",
    "\n",
    "f = [(a,\"10\"), (b,\"11\")]\n",
    "i = dict(f)\n",
    "print(type(i))"
   ]
  },
  {
   "cell_type": "markdown",
   "id": "d3358d02-d7ea-4c4d-b959-f5453bbb1a87",
   "metadata": {},
   "source": [
    "Q4. How do you write and execute a Python script from the command line?\n",
    "\n",
    "1. Create a notepad file containing python code Ex: print(10)\n",
    "2. Save this file as .py extention\n",
    "3. Run cmd\n",
    "4. Use cd-space-desired folder path where we saved our .py file\n",
    "5. Execute this file using python commannd Ex: python test.py\n"
   ]
  },
  {
   "cell_type": "markdown",
   "id": "ccfcd18a-3d25-4204-91d4-44ab0465c416",
   "metadata": {},
   "source": [
    "Q5. Given a list my_list = [1, 2, 3, 4, 5], write the code to slice the list and obtain the sub-list [2, 3]."
   ]
  },
  {
   "cell_type": "code",
   "execution_count": 45,
   "id": "bb34a654-05b1-4a37-95d8-e3e56b867c86",
   "metadata": {},
   "outputs": [
    {
     "name": "stdout",
     "output_type": "stream",
     "text": [
      "[2, 3]\n"
     ]
    }
   ],
   "source": [
    "my_list = [1, 2, 3, 4, 5]\n",
    "sub_list =  my_list[1:3]\n",
    "print(sub_list)"
   ]
  },
  {
   "cell_type": "markdown",
   "id": "3d24a267-3f26-4985-8b5f-d879ebff3c83",
   "metadata": {},
   "source": [
    "Q6. What is a complex number in mathematics, and how is it represented in Python?"
   ]
  },
  {
   "cell_type": "code",
   "execution_count": 50,
   "id": "42352141-6de8-483c-aa63-86f4ed69f348",
   "metadata": {},
   "outputs": [
    {
     "name": "stdout",
     "output_type": "stream",
     "text": [
      "<class 'complex'>\n"
     ]
    }
   ],
   "source": [
    "\"\"\"\n",
    "Complex number is anumber in which we have one real number & one imaginary number\n",
    "Ex: 5 + 1j \n",
    "In the above example 5 is Real Number, 1 is imaginary number j is imaginary unit\n",
    "\"\"\"\n",
    "\n",
    "a = 5 + 1j \n",
    "print(type(a))"
   ]
  },
  {
   "cell_type": "markdown",
   "id": "617f9c69-0999-4854-b9b0-bf30763c9359",
   "metadata": {},
   "source": [
    "Q7. What is the correct way to declare a variable named age and assign the value 25 to it?"
   ]
  },
  {
   "cell_type": "code",
   "execution_count": 51,
   "id": "3ca4920d-e878-4bd5-abb2-f890b5f644ae",
   "metadata": {},
   "outputs": [
    {
     "name": "stdout",
     "output_type": "stream",
     "text": [
      "25\n"
     ]
    }
   ],
   "source": [
    "age =25\n",
    "print(age)"
   ]
  },
  {
   "cell_type": "markdown",
   "id": "e0d7e454-a092-4b20-8a3e-0df873464589",
   "metadata": {},
   "source": [
    "Q8. Declare a variable named price and assign the value 9.99 to it. What data type does this variable\n",
    "belong to?"
   ]
  },
  {
   "cell_type": "code",
   "execution_count": 52,
   "id": "029278c6-10ec-431c-944f-887c18f747ab",
   "metadata": {},
   "outputs": [
    {
     "name": "stdout",
     "output_type": "stream",
     "text": [
      "<class 'float'>\n"
     ]
    }
   ],
   "source": [
    "price = 9.99\n",
    "print(type(price))"
   ]
  },
  {
   "cell_type": "markdown",
   "id": "bf143c51-2d39-4acc-8706-9caf5c09c725",
   "metadata": {},
   "source": [
    "Q9. Create a variable named name and assign your full name to it as a string. How would you print the\n",
    "value of this variable?"
   ]
  },
  {
   "cell_type": "code",
   "execution_count": 53,
   "id": "ea178c7c-6510-4814-9130-fb3b243edc2d",
   "metadata": {},
   "outputs": [
    {
     "name": "stdout",
     "output_type": "stream",
     "text": [
      "Swapnil Kailas Sable\n"
     ]
    }
   ],
   "source": [
    "name = \"Swapnil Kailas Sable\"\n",
    "print(name)\n"
   ]
  },
  {
   "cell_type": "markdown",
   "id": "68487dfa-5868-4027-bac6-881becf9d85e",
   "metadata": {},
   "source": [
    "Q10. Given the string \"Hello, World!\", extract the substring \"World\"."
   ]
  },
  {
   "cell_type": "code",
   "execution_count": 54,
   "id": "b196da90-ec24-4a0c-9f11-499d8097c0c0",
   "metadata": {},
   "outputs": [
    {
     "name": "stdout",
     "output_type": "stream",
     "text": [
      "World!\n"
     ]
    }
   ],
   "source": [
    "a = \"Hello, World!\"\n",
    "b = a[7:]\n",
    "print(b)"
   ]
  },
  {
   "cell_type": "markdown",
   "id": "dcd4ed3b-b989-47c6-af37-fa2a943de780",
   "metadata": {},
   "source": [
    "Q11. Create a variable named \"is_student\" and assign it a boolean value indicating whether you are\n",
    "currently a student or not."
   ]
  },
  {
   "cell_type": "code",
   "execution_count": 56,
   "id": "4e19fa7b-c15e-4b08-be2f-42c536e6ede0",
   "metadata": {},
   "outputs": [
    {
     "name": "stdout",
     "output_type": "stream",
     "text": [
      "Currently a student\n"
     ]
    }
   ],
   "source": [
    "is_student = True\n",
    "\n",
    "if is_student == True:\n",
    "    print(\"Currently a student\")\n",
    "else:\n",
    "    print(\"Currently not a student\")"
   ]
  },
  {
   "cell_type": "code",
   "execution_count": null,
   "id": "0f69e872-e97c-4075-bb4a-fc527b18724b",
   "metadata": {},
   "outputs": [],
   "source": []
  }
 ],
 "metadata": {
  "kernelspec": {
   "display_name": "Python 3 (ipykernel)",
   "language": "python",
   "name": "python3"
  },
  "language_info": {
   "codemirror_mode": {
    "name": "ipython",
    "version": 3
   },
   "file_extension": ".py",
   "mimetype": "text/x-python",
   "name": "python",
   "nbconvert_exporter": "python",
   "pygments_lexer": "ipython3",
   "version": "3.10.8"
  }
 },
 "nbformat": 4,
 "nbformat_minor": 5
}

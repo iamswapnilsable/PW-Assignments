{
 "cells": [
  {
   "cell_type": "markdown",
   "id": "c2c0e2ea-6b4d-4a03-8900-11297de180f0",
   "metadata": {},
   "source": [
    "Q1, Create a vehicle class with an init method having instance variables as name_of_vehicle, max_speed\n",
    "and average_of_vehicle."
   ]
  },
  {
   "cell_type": "code",
   "execution_count": 16,
   "id": "80204969-8673-4db4-8555-13e118682997",
   "metadata": {},
   "outputs": [],
   "source": [
    "class vehicle:\n",
    "    def __init__(self,name_of_vehicle, max_speed, average_of_vehicle):\n",
    "        self.name_of_vehicle = name_of_vehicle\n",
    "        self.max_speed = max_speed\n",
    "        self.average_of_vehicle = average_of_vehicle\n",
    "    def return_vehical_details(self):\n",
    "        return self.name_of_vehicle, self.max_speed, self.average_of_vehicle"
   ]
  },
  {
   "cell_type": "code",
   "execution_count": 17,
   "id": "ecb34116-19c5-4356-ba6d-ae970fc15062",
   "metadata": {},
   "outputs": [
    {
     "data": {
      "text/plain": [
       "('Rolls_Royce', '500kmph', '30km')"
      ]
     },
     "execution_count": 17,
     "metadata": {},
     "output_type": "execute_result"
    }
   ],
   "source": [
    "Rolls_Royce = vehicle(\"Rolls_Royce\",\"500kmph\",\"30km\")\n",
    "Rolls_Royce.return_vehical_details()"
   ]
  },
  {
   "cell_type": "markdown",
   "id": "78fc88c7-3e8f-4b87-8fc4-e5c07fdac6e7",
   "metadata": {},
   "source": [
    "Q2. Create a child class car from the vehicle class created in Que 1, which will inherit the vehicle class.\n",
    "Create a method named seating_capacity which takes capacity as an argument and returns the name of\n",
    "the vehicle and its seating capacity."
   ]
  },
  {
   "cell_type": "code",
   "execution_count": 1,
   "id": "c9187b6d-525c-4dfe-9fdc-30ce9414fd92",
   "metadata": {},
   "outputs": [
    {
     "name": "stdout",
     "output_type": "stream",
     "text": [
      "('Rolls_Royce', '4 passengers')\n"
     ]
    }
   ],
   "source": [
    "class vehicle:\n",
    "    def __init__(self,name_of_vehicle, seating_capacity):\n",
    "        self.name_of_vehicle = name_of_vehicle\n",
    "        self.seating_capacity = seating_capacity\n",
    "\n",
    "class car(vehicle):\n",
    "    def return_vehical_details(self):\n",
    "        return self.name_of_vehicle, self.seating_capacity\n",
    "\n",
    "Rolls_Royce = car(\"Rolls_Royce\",\"4 passengers\")\n",
    "output = Rolls_Royce.return_vehical_details()\n",
    "print(output)\n",
    "\n"
   ]
  },
  {
   "cell_type": "markdown",
   "id": "f7007464-4e76-401f-ad65-ab273660e3f9",
   "metadata": {},
   "source": [
    "Q3. What is multiple inheritance? Write a python code to demonstrate multiple inheritance."
   ]
  },
  {
   "cell_type": "code",
   "execution_count": 3,
   "id": "9d2a5b0d-502d-4853-9b4b-3f8e6f3ee06d",
   "metadata": {},
   "outputs": [],
   "source": [
    "'''\n",
    "In multiple inheritance we can call one call to another class. \n",
    "Ex: If I have 3 classes and I want to call class 1 using class 3 then we can do it from Multiple Inheritance\n",
    "'''\n",
    "\n",
    "class class1:\n",
    "    def test_class1(self):\n",
    "        return \"This is a meth from class1\"\n",
    "class class2:\n",
    "     def test_class2(self):\n",
    "        return \"This is a meth from class2\"\n",
    "class class3(class1, class2):\n",
    "    pass\n",
    "\n",
    "obj_class3 = class3()\n"
   ]
  },
  {
   "cell_type": "code",
   "execution_count": 15,
   "id": "02c9baf8-ce72-4d04-9707-d30f8f50db49",
   "metadata": {},
   "outputs": [
    {
     "data": {
      "text/plain": [
       "'This is a meth from class2'"
      ]
     },
     "execution_count": 15,
     "metadata": {},
     "output_type": "execute_result"
    }
   ],
   "source": [
    "obj_class3.test_class1()\n",
    "obj_class3.test_class2()"
   ]
  },
  {
   "cell_type": "markdown",
   "id": "646ddd1c-53e2-4185-85ec-f66f86c27367",
   "metadata": {},
   "source": [
    "Q4. What are getter and setter in python? Create a class and create a getter and a setter method in this\n",
    "class."
   ]
  },
  {
   "cell_type": "code",
   "execution_count": 25,
   "id": "9058841b-7c14-4f26-9733-a95abd670668",
   "metadata": {},
   "outputs": [
    {
     "data": {
      "text/plain": [
       "4500"
      ]
     },
     "execution_count": 25,
     "metadata": {},
     "output_type": "execute_result"
    }
   ],
   "source": [
    "'''\n",
    "If the variable in a code is private and if we want to give access to the user then we use property decorator to get the variable\n",
    "and then we use .setter to set the value accesed for EX:\n",
    "'''\n",
    "\n",
    "class pwskills:\n",
    "    def __init__(self, course_price, course_name):\n",
    "        self.__course_price = course_price\n",
    "        self.course_name = course_name\n",
    "        \n",
    "    @property\n",
    "    def course_price_access(self):\n",
    "        return self.__course_price\n",
    "\n",
    "    @course_price_access.setter\n",
    "    def couse_price_set(self, price):\n",
    "        if price <= 3500:\n",
    "            pass\n",
    "        else:\n",
    "            self.__course_price = price\n",
    "        \n",
    "pw = pwskills( 3500, \"Data Science Masters\")\n",
    "pw.course_price_access\n",
    "pw.couse_price_set = 4500\n",
    "pw.course_price_access"
   ]
  },
  {
   "cell_type": "markdown",
   "id": "7664d8de-501f-4ebf-9f7d-da4ac3d37e58",
   "metadata": {},
   "source": [
    "Q5.What is method overriding in python? Write a python code to demonstrate method overriding."
   ]
  },
  {
   "cell_type": "code",
   "execution_count": 43,
   "id": "bf29e9fb-22b5-4080-8df7-27931f45521d",
   "metadata": {},
   "outputs": [
    {
     "name": "stdout",
     "output_type": "stream",
     "text": [
      "Swapnil iamswapnilsable@gmail.com 9860135222\n"
     ]
    }
   ],
   "source": [
    "\"\"\"\n",
    "By using class method we overload the function\n",
    "\"\"\"\n",
    "\n",
    "class pwskills:\n",
    "    mobile_num = 8857852343\n",
    "    \n",
    "    def __init__(self, name, email):\n",
    "        self.name = name\n",
    "        self.email = email\n",
    "        \n",
    "    @classmethod\n",
    "    def change_number(cls, mobile):\n",
    "        pwskills.mobile_num = mobile\n",
    "    @classmethod\n",
    "    def details(cls, name, email):\n",
    "        return cls(name, email)\n",
    "    \n",
    "    def students_details(self):\n",
    "        print(self.name, self.email, pwskills.mobile_num)\n",
    "        \n",
    "pwskills.change_number(9860135222)    \n",
    "pwskills.mobile_num\n",
    "\n",
    "a = pwskills.details(\"Swapnil\",\"iamswapnilsable@gmail.com\")\n",
    "a.students_details()\n",
    "\n",
    "a."
   ]
  },
  {
   "cell_type": "code",
   "execution_count": null,
   "id": "acd1778a-e5d0-483e-89ff-6bc2af8c6ea4",
   "metadata": {},
   "outputs": [],
   "source": []
  }
 ],
 "metadata": {
  "kernelspec": {
   "display_name": "Python 3 (ipykernel)",
   "language": "python",
   "name": "python3"
  },
  "language_info": {
   "codemirror_mode": {
    "name": "ipython",
    "version": 3
   },
   "file_extension": ".py",
   "mimetype": "text/x-python",
   "name": "python",
   "nbconvert_exporter": "python",
   "pygments_lexer": "ipython3",
   "version": "3.10.8"
  }
 },
 "nbformat": 4,
 "nbformat_minor": 5
}

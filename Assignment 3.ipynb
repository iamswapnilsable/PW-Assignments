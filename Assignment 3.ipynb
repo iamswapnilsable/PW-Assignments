{
 "cells": [
  {
   "cell_type": "markdown",
   "id": "1f768921-25ba-4c51-9ad9-6444e5edad68",
   "metadata": {},
   "source": [
    "Q1. Which keyword is used to create a function? Create a function to return a list of odd numbers in the\n",
    "range of 1 to 25."
   ]
  },
  {
   "cell_type": "code",
   "execution_count": 18,
   "id": "2f52abb2-f422-4818-ae40-18666f2f37f7",
   "metadata": {},
   "outputs": [
    {
     "data": {
      "text/plain": [
       "[1, 3, 5, 7, 9, 11, 13, 15, 17, 19, 21, 23, 25]"
      ]
     },
     "execution_count": 18,
     "metadata": {},
     "output_type": "execute_result"
    }
   ],
   "source": [
    "# def keyword is used to create a function\n",
    "\n",
    "def odd_num():\n",
    "    lst = []\n",
    "    for i in range(1,26):\n",
    "        if i%2 != 0:\n",
    "            lst.append(i)\n",
    "    return lst\n",
    "\n",
    "odd_num()\n",
    "\n",
    "\n"
   ]
  },
  {
   "cell_type": "markdown",
   "id": "935578fc-1ff2-4569-b017-20479d5df277",
   "metadata": {},
   "source": [
    "Q2. Why *args and **kwargs is used in some functions? Create a function each for *args and **kwargs\n",
    "to demonstrate their use."
   ]
  },
  {
   "cell_type": "code",
   "execution_count": 29,
   "id": "c854e5e0-ed68-4535-bd52-9df26d44ed0e",
   "metadata": {},
   "outputs": [
    {
     "data": {
      "text/plain": [
       "('abcd', 1234, (1, 2, 'a'), ['a', 'b', 1, 3], 'Swapnil')"
      ]
     },
     "execution_count": 29,
     "metadata": {},
     "output_type": "execute_result"
    }
   ],
   "source": [
    "\"\"\"\n",
    "We can use *args function to add any argument in it, where * means No.of arguments also It stores data in tuple format.\n",
    "Ex:\n",
    "\n",
    "\"\"\"\n",
    "\n",
    "def Test(*Swapnil):\n",
    "    return Swapnil\n",
    "\n",
    "Test(\"abcd\", 1234, (1,2,\"a\"),[\"a\",\"b\",1,3],\"Swapnil\")\n",
    "\n"
   ]
  },
  {
   "cell_type": "code",
   "execution_count": 28,
   "id": "41e8d1b5-b6f8-4edf-9a98-a365904cf092",
   "metadata": {},
   "outputs": [
    {
     "data": {
      "text/plain": [
       "{'a': [1, 2, 3, 4], 'b': 'Swapnil', 'c': 57451.545}"
      ]
     },
     "execution_count": 28,
     "metadata": {},
     "output_type": "execute_result"
    }
   ],
   "source": [
    "\n",
    "\"\"\"\n",
    "And **kwargs is used to store data in dictionary format\n",
    "Ex:\n",
    "\"\"\"\n",
    "\n",
    "def Test1(**kwargs):\n",
    "    return kwargs\n",
    "Test1(a = [1,2,3,4], b= \"Swapnil\" , c = 57451.545)"
   ]
  },
  {
   "cell_type": "markdown",
   "id": "875bdbd0-7aec-4a3c-af33-1f64be9d2ce0",
   "metadata": {},
   "source": [
    "Q3. What is an iterator in python? Name the method used to initialise the iterator object and the method\n",
    "used for iteration. Use these methods to print the first five elements of the given list [2, 4, 6, 8, 10, 12, 14,\n",
    "16, 18, 20]."
   ]
  },
  {
   "cell_type": "code",
   "execution_count": 33,
   "id": "7247e51e-f3c1-404a-8e7b-7286186c0681",
   "metadata": {},
   "outputs": [
    {
     "name": "stdout",
     "output_type": "stream",
     "text": [
      "2\n",
      "4\n",
      "6\n",
      "8\n",
      "10\n"
     ]
    }
   ],
   "source": [
    "\"\"\"\n",
    "Iterator function is a type of function which breaks Iteratbles in parts. \"for\" Method is used for iteration\n",
    "\n",
    "\"\"\"\n",
    "\n",
    "l = [2, 4, 6, 8, 10, 12, 14, 16, 18, 20]\n",
    "\n",
    "for i in l[0:5]:\n",
    "    print(i)\n"
   ]
  },
  {
   "cell_type": "markdown",
   "id": "78c820b9-ac24-4e59-9184-fa794a9fef3f",
   "metadata": {},
   "source": [
    "Q4. What is a generator function in python? Why yield keyword is used? Give an example of a generator\n",
    "function."
   ]
  },
  {
   "cell_type": "code",
   "execution_count": 4,
   "id": "ed8cc47d-3919-4832-89cf-79cd49a7faee",
   "metadata": {},
   "outputs": [
    {
     "name": "stdout",
     "output_type": "stream",
     "text": [
      "1\n",
      "3\n",
      "5\n",
      "7\n",
      "9\n",
      "Sum of off numbers: 25\n"
     ]
    }
   ],
   "source": [
    "\"\"\"\n",
    "Generative function is a type of function which generates objects \n",
    "Ex: range is inbuilt generative function in python\n",
    "yield is also a generative function  lst\n",
    "Ex: \n",
    "\"\"\"\n",
    "\n",
    "def odd_num(n):\n",
    "    a = 0\n",
    "    for i in range(n):\n",
    "        if i%2 != 0:\n",
    "            yield i\n",
    "            a +=i\n",
    "    print(\"Sum of off numbers:\",a)\n",
    "\n",
    "n =10\n",
    "generator_obj = odd_num(n)\n",
    "\n",
    "for num in generator_obj:\n",
    "    print(num)\n"
   ]
  },
  {
   "cell_type": "markdown",
   "id": "dadbfe42-d8a9-4ba7-b41b-2c1567faae0d",
   "metadata": {},
   "source": [
    "Q5. Create a generator function for prime numbers less than 1000. Use the next() method to print the\n",
    "first 20 prime numbers."
   ]
  },
  {
   "cell_type": "code",
   "execution_count": 12,
   "id": "d7bea86b-70bc-414a-ab0d-882036dce8c8",
   "metadata": {},
   "outputs": [
    {
     "data": {
      "text/plain": [
       "[]"
      ]
     },
     "execution_count": 12,
     "metadata": {},
     "output_type": "execute_result"
    }
   ],
   "source": [
    "def is_prime(num):\n",
    "    if num <= 1:\n",
    "        return False\n",
    "    if num <= 3:\n",
    "        return True\n",
    "    if num % 2 == 0 or num % 3 == 0:\n",
    "        return False\n",
    "    i = 5\n",
    "    while i * i <= num:\n",
    "        if num % i == 0 or num % (i + 2) == 0:\n",
    "            return False\n",
    "        i += 6\n",
    "    return True\n",
    "\n",
    "def prime_generator(limit):\n",
    "    num = 2\n",
    "    while num < limit:\n",
    "        if is_prime(num):\n",
    "            yield num\n",
    "        num += 1\n",
    "\n",
    "gen = prime_generator(1000)\n",
    "\n",
    "for j in range(20):\n",
    "    print(next(gen))\n"
   ]
  },
  {
   "cell_type": "markdown",
   "id": "d88364d3-5700-4e95-89a1-b963bb3eb514",
   "metadata": {},
   "source": [
    "Q6. Write a python program to print the first 10 Fibonacci numbers using a while loop."
   ]
  },
  {
   "cell_type": "code",
   "execution_count": 3,
   "id": "b90d7130-f814-432f-ac65-0dc17bebd763",
   "metadata": {},
   "outputs": [
    {
     "name": "stdout",
     "output_type": "stream",
     "text": [
      "0\n",
      "1\n",
      "1\n",
      "2\n",
      "3\n",
      "5\n",
      "8\n",
      "13\n",
      "21\n",
      "34\n",
      "55\n"
     ]
    }
   ],
   "source": [
    "def fibonacci():\n",
    "    a, b = 0, 1\n",
    "    while True:\n",
    "        yield a\n",
    "        a, b = b, a + b\n",
    "\n",
    "fib_generator = fibonacci()\n",
    "\n",
    "for i in range(11):\n",
    "    fib_number = next(fib_generator)\n",
    "    print(fib_number)"
   ]
  },
  {
   "cell_type": "markdown",
   "id": "bec39eb4-f30d-4b40-908a-25181f50f7eb",
   "metadata": {},
   "source": [
    "Q7. Write a List Comprehension to iterate through the given string: ‘pwskills’.\n",
    "Expected output: ['p', 'w', 's', 'k', 'i', 'l', 'l', 's']"
   ]
  },
  {
   "cell_type": "code",
   "execution_count": 4,
   "id": "d2fa3b5e-c992-40dc-b815-30982b06954d",
   "metadata": {},
   "outputs": [
    {
     "name": "stdout",
     "output_type": "stream",
     "text": [
      "['p', 'w', 's', 'k', 'i', 'l', 'l', 's']\n"
     ]
    }
   ],
   "source": [
    "String = \"pwskills\"\n",
    "\n",
    "output = [i for i in String]\n",
    "\n",
    "print(output)\n"
   ]
  },
  {
   "cell_type": "markdown",
   "id": "94fe5011-a7b9-43b6-a3f2-1d84c099367f",
   "metadata": {},
   "source": [
    "Q8. Write a python program to check whether a given number is Palindrome or not using a while loop."
   ]
  },
  {
   "cell_type": "code",
   "execution_count": 2,
   "id": "7c92e371-c697-416e-97c4-282161ccdc2d",
   "metadata": {},
   "outputs": [
    {
     "name": "stdout",
     "output_type": "stream",
     "text": [
      "The number is palindrome!\n"
     ]
    }
   ],
   "source": [
    "Num = 1221\n",
    "A = Num\n",
    "RevNum = 0\n",
    "while(Num>0):\n",
    "    digit = Num%10\n",
    "    RevNum = RevNum*10+digit\n",
    "    Num = Num//10\n",
    "if(A==RevNum):\n",
    "    print(\"The number is palindrome!\")\n",
    "else:\n",
    "    print(\"Not a palindrome!\")"
   ]
  },
  {
   "cell_type": "markdown",
   "id": "a60d2ce5-9f0f-4b60-9bf7-d466f3ccd6a6",
   "metadata": {},
   "source": [
    "Q9. Write a code to print odd numbers from 1 to 100 using list comprehension.\n",
    "Note: Use a list comprehension to create a list from 1 to 100 and use another List comprehension to filter\n",
    "out odd numbers."
   ]
  },
  {
   "cell_type": "code",
   "execution_count": 11,
   "id": "6589ee9b-02d0-45c3-bd44-690fc9ff31ee",
   "metadata": {},
   "outputs": [
    {
     "name": "stdout",
     "output_type": "stream",
     "text": [
      "[1, 3, 5, 7, 9, 11, 13, 15, 17, 19, 21, 23, 25, 27, 29, 31, 33, 35, 37, 39, 41, 43, 45, 47, 49, 51, 53, 55, 57, 59, 61, 63, 65, 67, 69, 71, 73, 75, 77, 79, 81, 83, 85, 87, 89, 91, 93, 95, 97, 99]\n"
     ]
    }
   ],
   "source": [
    "List = [i for i in range(1,101)]\n",
    "Odd_Num = [j for j in List if j%2 != 0]\n",
    "print(Odd_Num)"
   ]
  },
  {
   "cell_type": "code",
   "execution_count": null,
   "id": "05e39e80-b3d2-4e87-b572-14287dbfbd83",
   "metadata": {},
   "outputs": [],
   "source": []
  }
 ],
 "metadata": {
  "kernelspec": {
   "display_name": "Python 3 (ipykernel)",
   "language": "python",
   "name": "python3"
  },
  "language_info": {
   "codemirror_mode": {
    "name": "ipython",
    "version": 3
   },
   "file_extension": ".py",
   "mimetype": "text/x-python",
   "name": "python",
   "nbconvert_exporter": "python",
   "pygments_lexer": "ipython3",
   "version": "3.10.8"
  }
 },
 "nbformat": 4,
 "nbformat_minor": 5
}
